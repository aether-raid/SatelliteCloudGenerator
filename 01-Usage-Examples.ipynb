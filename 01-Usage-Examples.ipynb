{
 "cells": [
  {
   "cell_type": "markdown",
   "id": "86f04409",
   "metadata": {},
   "source": [
    "# Example Usage"
   ]
  },
  {
   "cell_type": "code",
   "execution_count": null,
   "id": "accessible-auditor",
   "metadata": {},
   "outputs": [],
   "source": [
    "%load_ext autoreload\n",
    "%autoreload 2\n",
    "%matplotlib inline"
   ]
  },
  {
   "cell_type": "code",
   "execution_count": null,
   "id": "academic-beast",
   "metadata": {},
   "outputs": [],
   "source": [
    "import rasterio as rio\n",
    "from pathlib import Path\n",
    "import os\n",
    "\n",
    "import matplotlib as mpl\n",
    "import matplotlib.pyplot as plt\n",
    "import numpy as np\n",
    "\n",
    "from src import *\n",
    "\n",
    "\n",
    "plt.rcParams[\"figure.figsize\"] = (20,10)\n",
    "GPU_IDX = 0"
   ]
  },
  {
   "cell_type": "code",
   "execution_count": null,
   "id": "numerical-rebate",
   "metadata": {},
   "outputs": [],
   "source": [
    "import imageio\n",
    "\n",
    "mwir_img = imageio.imread('imgs/mwir_example.png')[:256,:256,0]/255 # Thermal Infrared Imagery - © [2022] Satellite Vu\n",
    "rgb_img = imageio.imread('imgs/rgb_example.png')[...,:3]/255"
   ]
  },
  {
   "cell_type": "markdown",
   "id": "728c1e77",
   "metadata": {},
   "source": [
    "## Cloud Types: Thick Cloud"
   ]
  },
  {
   "cell_type": "code",
   "execution_count": null,
   "id": "0715c774",
   "metadata": {},
   "outputs": [],
   "source": [
    "cl, mask = add_cloud(rgb_img,\n",
    "                     return_cloud=True\n",
    "                    )\n",
    "\n",
    "plt.subplot(1,3,1)\n",
    "plt.imshow(rgb_img)\n",
    "plt.title('Input')\n",
    "plt.subplot(1,3,2)\n",
    "plt.imshow(cl)\n",
    "plt.title('Simulated')\n",
    "plt.subplot(1,3,3)\n",
    "plt.imshow(mask)\n",
    "plt.title('Channel-wise Cloud Mask')\n",
    "\n",
    "plt.savefig('imgs/thick_cloud.png',\n",
    "        dpi=200, \n",
    "        bbox_inches='tight',\n",
    "        pad_inches=0.0\n",
    "       )"
   ]
  },
  {
   "cell_type": "markdown",
   "id": "8ce9fc90",
   "metadata": {},
   "source": [
    "## Cloud Types: Thick Foggy Cloud"
   ]
  },
  {
   "cell_type": "code",
   "execution_count": null,
   "id": "9d5bf7af",
   "metadata": {},
   "outputs": [],
   "source": [
    "cl, mask = add_cloud(rgb_img,\n",
    "                     min_lvl=0.1,\n",
    "                     max_lvl=0.5,\n",
    "                     decay_factor=1.85,\n",
    "                     return_cloud=True)\n",
    "\n",
    "plt.subplot(1,3,1)\n",
    "plt.imshow(rgb_img)\n",
    "plt.title('Input')\n",
    "plt.subplot(1,3,2)\n",
    "plt.imshow(cl)\n",
    "plt.title('Simulated')\n",
    "plt.subplot(1,3,3)\n",
    "plt.imshow(mask)\n",
    "plt.title('Channel-wise Cloud Mask')\n",
    "\n",
    "plt.savefig('imgs/foggy_cloud.png',\n",
    "        dpi=200, \n",
    "        bbox_inches='tight',\n",
    "        pad_inches=0.0\n",
    "       )"
   ]
  },
  {
   "cell_type": "markdown",
   "id": "437eacf8",
   "metadata": {},
   "source": [
    "## Cloud Types: Thin Fog"
   ]
  },
  {
   "cell_type": "code",
   "execution_count": null,
   "id": "34835407",
   "metadata": {},
   "outputs": [],
   "source": [
    "cl, mask = add_cloud(rgb_img,\n",
    "                     min_lvl=0.4,\n",
    "                     max_lvl=0.6,\n",
    "                     decay_factor=1.5,\n",
    "                     return_cloud=True)\n",
    "\n",
    "plt.subplot(1,3,1)\n",
    "plt.imshow(rgb_img)\n",
    "plt.title('Input')\n",
    "plt.subplot(1,3,2)\n",
    "plt.imshow(cl)\n",
    "plt.title('Simulated')\n",
    "plt.subplot(1,3,3)\n",
    "plt.imshow(mask)\n",
    "plt.title('Channel-wise Cloud Mask')\n",
    "\n",
    "plt.savefig('imgs/thin_fog.png',\n",
    "        dpi=200, \n",
    "        bbox_inches='tight',\n",
    "        pad_inches=0.0\n",
    "       )"
   ]
  },
  {
   "cell_type": "markdown",
   "id": "069f2e15",
   "metadata": {},
   "source": [
    "## Thermal Image Example"
   ]
  },
  {
   "cell_type": "code",
   "execution_count": null,
   "id": "6310ac3d",
   "metadata": {},
   "outputs": [],
   "source": [
    "cl, mask = add_cloud(mwir_img,\n",
    "                     max_lvl = 0.6,                    \n",
    "                     invert=True,\n",
    "                     blur_scaling=1.0,\n",
    "                     return_cloud=True\n",
    "                    )\n",
    "plt.subplot(1,3,1)\n",
    "plt.imshow(mwir_img, cmap='gray')\n",
    "plt.title('Input')\n",
    "plt.subplot(1,3,2)\n",
    "plt.imshow(cl,vmin=0.0,vmax=1.0, cmap='gray')\n",
    "plt.title('Simulated')\n",
    "plt.subplot(1,3,3)\n",
    "plt.imshow(mask,vmin=0.0,vmax=1.0, cmap='gray')\n",
    "plt.title('Channel-wise Cloud Mask')\n",
    "\n",
    "plt.savefig('imgs/mwir_cloud.png',\n",
    "        dpi=200, \n",
    "        bbox_inches='tight',\n",
    "        pad_inches=0.0\n",
    "       )"
   ]
  },
  {
   "cell_type": "markdown",
   "id": "11775ba9",
   "metadata": {},
   "source": [
    "## Gradual Cloud Increase\n",
    "An interesting result can be obtained by repeatedly applying the cloud augmentation. Eventually, the image becomes dominated by the cloud component."
   ]
  },
  {
   "cell_type": "code",
   "execution_count": null,
   "id": "7756b878",
   "metadata": {},
   "outputs": [],
   "source": [
    "new = rgb_img\n",
    "\n",
    "plt.figure(figsize=(10,20))\n",
    "for step in range(32):\n",
    "    \n",
    "    plt.subplot(8,4,1+step)\n",
    "    plt.imshow(new.clip(0,1))\n",
    "    \n",
    "    lims = sorted([0.6+0.4*el for el in np.random.rand(2).tolist()])\n",
    "    \n",
    "    new = add_cloud(new,\n",
    "                    min_lvl=0.5,\n",
    "                    max_lvl=1.0)"
   ]
  },
  {
   "cell_type": "markdown",
   "id": "7bb5bd99",
   "metadata": {},
   "source": [
    "# Parameter Ablations"
   ]
  },
  {
   "cell_type": "markdown",
   "id": "0e9e8888",
   "metadata": {},
   "source": [
    "## 1. Basic Cloud\n",
    "A basic cloud with `max_lvl` of ground component (`1.0` guarantees *some* clear pixels) and `min_lvl` that controles the maximum value of cloud strength (`1.0` guarantees *some* pixels with non-transparent cloud)."
   ]
  },
  {
   "cell_type": "code",
   "execution_count": null,
   "id": "f9185824",
   "metadata": {},
   "outputs": [],
   "source": [
    "cl, mask = add_cloud(rgb_img,\n",
    "                     min_lvl=0.0,\n",
    "                     max_lvl=1.0,\n",
    "                     cloud_color=False,\n",
    "                     channel_offset=0,\n",
    "                     blur_scaling=0,\n",
    "                     return_cloud=True)\n",
    "\n",
    "plt.subplot(1,3,1)\n",
    "plt.imshow(rgb_img)\n",
    "plt.title('Input')\n",
    "plt.subplot(1,3,2)\n",
    "plt.imshow(cl)\n",
    "plt.title('Simulated')\n",
    "plt.subplot(1,3,3)\n",
    "plt.imshow(mask)\n",
    "plt.title('Channel-wise Cloud Mask')\n",
    "\n",
    "plt.savefig('imgs/basic_cloud.png',\n",
    "        dpi=200, \n",
    "        bbox_inches='tight',\n",
    "        pad_inches=0.0\n",
    "       )"
   ]
  },
  {
   "cell_type": "markdown",
   "id": "0b5d33ab",
   "metadata": {},
   "source": [
    "## 2. Cloud Color\n",
    "The color of the cloud component (white by default) can be adjusted with the average color from the clear underlying image by setting `cloud_color` to `True`."
   ]
  },
  {
   "cell_type": "code",
   "execution_count": null,
   "id": "a495c316",
   "metadata": {},
   "outputs": [],
   "source": [
    "cl, mask = add_cloud(rgb_img,\n",
    "                     min_lvl=0.0,\n",
    "                     max_lvl=1.0,\n",
    "                     cloud_color=True,\n",
    "                     return_cloud=True\n",
    "                    )\n",
    "\n",
    "plt.subplot(1,3,1)\n",
    "plt.imshow(rgb_img)\n",
    "plt.title('Input')\n",
    "plt.subplot(1,3,2)\n",
    "plt.imshow(cl)\n",
    "plt.title('Simulated')\n",
    "plt.subplot(1,3,3)\n",
    "plt.imshow(mask)\n",
    "plt.title('Channel-wise Cloud Mask')\n",
    "\n",
    "plt.savefig('imgs/cloud_color.png',\n",
    "        dpi=200, \n",
    "        bbox_inches='tight',\n",
    "        pad_inches=0.0\n",
    "       )"
   ]
  },
  {
   "cell_type": "markdown",
   "id": "53ad09ca",
   "metadata": {},
   "source": [
    "## 3. Channel Offset\n",
    "The `channel_offset` setting controls the maximum positional offset in `x` or `y` direction between the channel-specific cloud masks and the base cloud mask (The value is sampled uniformly from the range `[-channel_offset,+channel_offset]`)."
   ]
  },
  {
   "cell_type": "code",
   "execution_count": null,
   "id": "e36958f7",
   "metadata": {},
   "outputs": [],
   "source": [
    "cl, mask = add_cloud(rgb_img,\n",
    "                     min_lvl=0.0,\n",
    "                     max_lvl=1.0,\n",
    "                     channel_offset=3,\n",
    "                     return_cloud=True\n",
    "                    )\n",
    "\n",
    "plt.subplot(1,3,1)\n",
    "plt.imshow(rgb_img)\n",
    "plt.title('Input')\n",
    "plt.subplot(1,3,2)\n",
    "plt.imshow(cl)\n",
    "plt.title('Simulated')\n",
    "plt.subplot(1,3,3)\n",
    "plt.imshow(mask)\n",
    "plt.title('Channel-wise Cloud Mask')\n",
    "\n",
    "plt.savefig('imgs/channel_offset.png',\n",
    "        dpi=200, \n",
    "        bbox_inches='tight',\n",
    "        pad_inches=0.0\n",
    "       )"
   ]
  },
  {
   "cell_type": "markdown",
   "id": "b261f0ed",
   "metadata": {},
   "source": [
    "## 4. Blur Under Cloud\n",
    "By setting `blur_scaling` argument to a value different than `0.0`, a locally varying Gaussian blur can be applied. The standard deviation is proportional to the cloud strength (ranging between `0` and `1`) multplied by the `blur_scaling` factor."
   ]
  },
  {
   "cell_type": "code",
   "execution_count": null,
   "id": "45a15402",
   "metadata": {},
   "outputs": [],
   "source": [
    "cl, mask = add_cloud(rgb_img,\n",
    "                     min_lvl=0.3,\n",
    "                     max_lvl=1.0,\n",
    "                     blur_scaling=4.0,\n",
    "                     return_cloud=True\n",
    "                    )\n",
    "\n",
    "plt.subplot(1,3,1)\n",
    "plt.imshow(rgb_img)\n",
    "plt.title('Input')\n",
    "plt.subplot(1,3,2)\n",
    "plt.imshow(cl)\n",
    "plt.title('Simulated')\n",
    "plt.subplot(1,3,3)\n",
    "plt.imshow(mask)\n",
    "plt.title('Channel-wise Cloud Mask')\n",
    "\n",
    "plt.savefig('imgs/back_blur.png',\n",
    "        dpi=200, \n",
    "        bbox_inches='tight',\n",
    "        pad_inches=0.0\n",
    "       )"
   ]
  },
  {
   "cell_type": "code",
   "execution_count": null,
   "id": "bd0427a4",
   "metadata": {},
   "outputs": [],
   "source": []
  }
 ],
 "metadata": {
  "language_info": {
   "name": "python",
   "pygments_lexer": "ipython3"
  }
 },
 "nbformat": 4,
 "nbformat_minor": 5
}
