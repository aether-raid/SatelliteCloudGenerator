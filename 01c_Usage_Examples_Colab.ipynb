{
 "cells": [
  {
   "cell_type": "markdown",
   "metadata": {},
   "source": [
    "<a href=\"https://colab.research.google.com/github/cidcom/SatelliteCloudGenerator/blob/main/01c_Usage_Examples_Colab.ipynb\" target=\"_parent\"><img src=\"https://colab.research.google.com/assets/colab-badge.svg\" alt=\"Open In Colab\"/></a>"
   ]
  },
  {
   "cell_type": "markdown",
   "metadata": {},
   "source": [
    "# Example Usage of SatelliteCloudGenerator\n",
    "☁️ The following are example use cases of the [SatelliteCloudGenerator tool](https://github.com/cidcom/SatelliteCloudGenerator).\n",
    "\n",
    "The interface is largely based in PyTorch and can be readily applied in other PyTorch projects. 🔥"
   ]
  },
  {
   "cell_type": "code",
   "execution_count": null,
   "metadata": {},
   "outputs": [],
   "source": [
    "%load_ext autoreload\n",
    "%autoreload 2\n",
    "%matplotlib inline"
   ]
  },
  {
   "cell_type": "markdown",
   "metadata": {},
   "source": [
    "## Imports and installs...\n",
    "Please note the `--recurse-submodules` setting of `git clone` which is necessary to clone the internal submodule for [LocalGaussianBlur](https://github.com/mikonvergence/LocalGaussianBlur).\n",
    "\n"
   ]
  },
  {
   "cell_type": "code",
   "execution_count": null,
   "metadata": {},
   "outputs": [],
   "source": [
    "! git clone --recurse-submodules https://github.com/cidcom/SatelliteCloudGenerator.git"
   ]
  },
  {
   "cell_type": "code",
   "execution_count": null,
   "metadata": {},
   "outputs": [],
   "source": [
    "!pip install -q torch==1.10.0 torchvision numpy imageio kornia"
   ]
  },
  {
   "cell_type": "code",
   "execution_count": null,
   "metadata": {},
   "outputs": [],
   "source": [
    "import sys\n",
    "sys.path.append('./SatelliteCloudGenerator/')\n",
    "import matplotlib as mpl\n",
    "import matplotlib.pyplot as plt\n",
    "import numpy as np\n",
    "from src import *\n",
    "import imageio\n",
    "\n",
    "plt.rcParams[\"figure.figsize\"] = (20,10)\n",
    "\n",
    "rgb_img = imageio.imread('./SatelliteCloudGenerator/imgs/rgb_example.png')[...,:3]/255"
   ]
  },
  {
   "cell_type": "markdown",
   "metadata": {},
   "source": [
    "## New Feature: Shadows"
   ]
  },
  {
   "cell_type": "code",
   "execution_count": null,
   "metadata": {},
   "outputs": [],
   "source": [
    "cl, cmask, smask = add_cloud_and_shadow(rgb_img,\n",
    "                                        return_cloud=True\n",
    "                                       )\n",
    "\n",
    "plt.subplot(1,4,1)\n",
    "plt.imshow(rgb_img)\n",
    "plt.title('Input')\n",
    "plt.subplot(1,4,2)\n",
    "plt.imshow(cl)\n",
    "plt.title('Simulated')\n",
    "plt.subplot(1,4,3)\n",
    "plt.imshow(cmask)\n",
    "plt.title('Channel-wise Cloud Mask')\n",
    "plt.subplot(1,4,4)\n",
    "plt.imshow(smask)\n",
    "plt.title('Channel-wise Shadow Mask')"
   ]
  },
  {
   "cell_type": "markdown",
   "metadata": {},
   "source": [
    "### Shadow-only"
   ]
  },
  {
   "cell_type": "code",
   "execution_count": null,
   "metadata": {},
   "outputs": [],
   "source": [
    "cl, cmask, smask = add_cloud_and_shadow(rgb_img,\n",
    "                                        max_lvl=0.0,\n",
    "                                        min_lvl=0.0,\n",
    "                                        decay_factor=0.5,\n",
    "                                        return_cloud=True\n",
    "                                       )\n",
    "\n",
    "plt.subplot(1,4,1)\n",
    "plt.imshow(rgb_img)\n",
    "plt.title('Input')\n",
    "plt.subplot(1,4,2)\n",
    "plt.imshow(cl)\n",
    "plt.title('Simulated')\n",
    "plt.subplot(1,4,3)\n",
    "plt.imshow(cmask)\n",
    "plt.title('Channel-wise Cloud Mask')\n",
    "plt.subplot(1,4,4)\n",
    "plt.imshow(smask)\n",
    "plt.title('Channel-wise Shadow Mask')"
   ]
  },
  {
   "cell_type": "markdown",
   "metadata": {},
   "source": [
    "## Cloud Types: Thick Cloud"
   ]
  },
  {
   "cell_type": "code",
   "execution_count": null,
   "metadata": {},
   "outputs": [],
   "source": [
    "cl, mask = add_cloud(rgb_img,\n",
    "                     return_cloud=True\n",
    "                    )\n",
    "\n",
    "plt.subplot(1,3,1)\n",
    "plt.imshow(rgb_img)\n",
    "plt.title('Input')\n",
    "plt.subplot(1,3,2)\n",
    "plt.imshow(cl)\n",
    "plt.title('Simulated')\n",
    "plt.subplot(1,3,3)\n",
    "plt.imshow(mask)\n",
    "plt.title('Channel-wise Cloud Mask')"
   ]
  },
  {
   "cell_type": "markdown",
   "metadata": {},
   "source": [
    "# Cloud Types: Thick Foggy Cloud"
   ]
  },
  {
   "cell_type": "code",
   "execution_count": null,
   "metadata": {},
   "outputs": [],
   "source": [
    "cl, mask = add_cloud(rgb_img,\n",
    "                     min_lvl=0.5,\n",
    "                     max_lvl=0.9,\n",
    "                     decay_factor=1.85,\n",
    "                     return_cloud=True)\n",
    "\n",
    "plt.subplot(1,3,1)\n",
    "plt.imshow(rgb_img)\n",
    "plt.title('Input')\n",
    "plt.subplot(1,3,2)\n",
    "plt.imshow(cl)\n",
    "plt.title('Simulated')\n",
    "plt.subplot(1,3,3)\n",
    "plt.imshow(mask)\n",
    "plt.title('Channel-wise Cloud Mask')"
   ]
  },
  {
   "cell_type": "markdown",
   "metadata": {},
   "source": [
    "# Cloud Types: Thin Fog"
   ]
  },
  {
   "cell_type": "code",
   "execution_count": null,
   "metadata": {},
   "outputs": [],
   "source": [
    "cl, mask = add_cloud(rgb_img,\n",
    "                     min_lvl=0.4,\n",
    "                     max_lvl=0.6,\n",
    "                     decay_factor=1.5,\n",
    "                     return_cloud=True)\n",
    "\n",
    "plt.subplot(1,3,1)\n",
    "plt.imshow(rgb_img)\n",
    "plt.title('Input')\n",
    "plt.subplot(1,3,2)\n",
    "plt.imshow(cl)\n",
    "plt.title('Simulated')\n",
    "plt.subplot(1,3,3)\n",
    "plt.imshow(mask)\n",
    "plt.title('Channel-wise Cloud Mask')"
   ]
  },
  {
   "cell_type": "markdown",
   "metadata": {},
   "source": [
    "## Inverted Cloud Example\n",
    "For some sensors, like IR, the clouds may actually decrease the level of reflected power, meaning that cloud regions can appear darker. For those cases, `invert=True` argument can be used to invert the cloud as shown below."
   ]
  },
  {
   "cell_type": "code",
   "execution_count": null,
   "metadata": {},
   "outputs": [],
   "source": [
    "gray_img=rgb_img.mean(-1)\n",
    "\n",
    "cl, mask = add_cloud(gray_img,\n",
    "                     max_lvl = 0.6,                    \n",
    "                     invert=True,\n",
    "                     blur_scaling=1.0,\n",
    "                     return_cloud=True\n",
    "                    )\n",
    "plt.subplot(1,3,1)\n",
    "plt.imshow(gray_img, cmap='gray')\n",
    "plt.title('Input')\n",
    "plt.subplot(1,3,2)\n",
    "plt.imshow(cl,vmin=0.0,vmax=1.0, cmap='gray')\n",
    "plt.title('Simulated')\n",
    "plt.subplot(1,3,3)\n",
    "plt.imshow(mask,vmin=0.0,vmax=1.0, cmap='gray')\n",
    "plt.title('Channel-wise Cloud Mask')"
   ]
  },
  {
   "cell_type": "markdown",
   "metadata": {},
   "source": [
    "# Parameter Ablations\n",
    "## 1. Basic Cloud\n",
    "\n",
    "A basic cloud with `max_lvl` of ground component (`1.0` guarantees some clear pixels) and `min_lvl` that controles the maximum value of cloud strength (`1.0` guarantees some pixels with non-transparent cloud)."
   ]
  },
  {
   "cell_type": "code",
   "execution_count": null,
   "metadata": {},
   "outputs": [],
   "source": [
    "cl, mask = add_cloud(rgb_img,\n",
    "                     min_lvl=0.0,\n",
    "                     max_lvl=1.0,\n",
    "                     cloud_color=False,\n",
    "                     channel_offset=0,\n",
    "                     blur_scaling=0,\n",
    "                     return_cloud=True\n",
    "                    )\n",
    "\n",
    "plt.subplot(1,3,1)\n",
    "plt.imshow(rgb_img)\n",
    "plt.title('Input')\n",
    "plt.subplot(1,3,2)\n",
    "plt.imshow(cl)\n",
    "plt.title('Simulated')\n",
    "plt.subplot(1,3,3)\n",
    "plt.imshow(mask)\n",
    "plt.title('Channel-wise Cloud Mask')"
   ]
  },
  {
   "cell_type": "markdown",
   "metadata": {},
   "source": [
    "## 2. Cloud Color\n",
    "\n",
    "The color of the cloud component (white by default) can be adjusted with the average color from the clear underlying image by setting `cloud_color` to `True`."
   ]
  },
  {
   "cell_type": "code",
   "execution_count": null,
   "metadata": {},
   "outputs": [],
   "source": [
    "cl, mask = add_cloud(rgb_img,\n",
    "                     min_lvl=0.0,\n",
    "                     max_lvl=1.0,\n",
    "                     cloud_color=True,\n",
    "                     channel_offset=0,\n",
    "                     blur_scaling=0,\n",
    "                     return_cloud=True\n",
    "                    )\n",
    "plt.subplot(1,3,1)\n",
    "plt.imshow(rgb_img)\n",
    "plt.title('Input')\n",
    "plt.subplot(1,3,2)\n",
    "plt.imshow(cl)\n",
    "plt.title('Simulated')\n",
    "plt.subplot(1,3,3)\n",
    "plt.imshow(mask)\n",
    "plt.title('Channel-wise Cloud Mask')"
   ]
  },
  {
   "cell_type": "markdown",
   "metadata": {},
   "source": [
    "## 3. Channel Offset\n",
    "\n",
    "The `channel_offset` setting controls the maximum positional offset in `x` or `y` direction between the channel-specific cloud masks and the base cloud mask (The value is sampled uniformly from the range `[-channel_offset,+channel_offset]`)."
   ]
  },
  {
   "cell_type": "code",
   "execution_count": null,
   "metadata": {},
   "outputs": [],
   "source": [
    "cl, mask = add_cloud(rgb_img,\n",
    "                     min_lvl=0.0,\n",
    "                     max_lvl=1.0,\n",
    "                     cloud_color=False,\n",
    "                     channel_offset=3,\n",
    "                     blur_scaling=0,\n",
    "                     return_cloud=True\n",
    "                    )\n",
    "\n",
    "plt.subplot(1,3,1)\n",
    "plt.imshow(rgb_img)\n",
    "plt.title('Input')\n",
    "plt.subplot(1,3,2)\n",
    "plt.imshow(cl)\n",
    "plt.title('Simulated')\n",
    "plt.subplot(1,3,3)\n",
    "plt.imshow(mask)\n",
    "plt.title('Channel-wise Cloud Mask')"
   ]
  },
  {
   "cell_type": "markdown",
   "metadata": {},
   "source": [
    "## 4. Blur Under Cloud\n",
    "\n",
    "By setting blur_scaling argument to a value different than `0.0`, a locally varying Gaussian blur can be applied. The standard deviation is proportional to the cloud strength (ranging between `0` and `1`) multplied by the `blur_scaling`\n",
    "\n",
    " factor."
   ]
  },
  {
   "cell_type": "code",
   "execution_count": null,
   "metadata": {},
   "outputs": [],
   "source": [
    "cl, mask = add_cloud(rgb_img,\n",
    "                     min_lvl=0.0,\n",
    "                     max_lvl=0.5,\n",
    "                     cloud_color=False,\n",
    "                     channel_offset=0,\n",
    "                     blur_scaling=4.0,\n",
    "                     return_cloud=True\n",
    "                    )\n",
    "\n",
    "plt.subplot(1,3,1)\n",
    "plt.imshow(rgb_img)\n",
    "plt.title('Input')\n",
    "plt.subplot(1,3,2)\n",
    "plt.imshow(cl)\n",
    "plt.title('Simulated')\n",
    "plt.subplot(1,3,3)\n",
    "plt.imshow(mask)\n",
    "plt.title('Channel-wise Cloud Mask')"
   ]
  },
  {
   "cell_type": "code",
   "execution_count": null,
   "metadata": {},
   "outputs": [],
   "source": []
  }
 ],
 "metadata": {
  "language_info": {
   "name": "python",
   "pygments_lexer": "ipython3"
  }
 },
 "nbformat": 4,
 "nbformat_minor": 1
}
